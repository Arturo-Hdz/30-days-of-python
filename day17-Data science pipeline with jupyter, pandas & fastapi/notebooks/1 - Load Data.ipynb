{
 "cells": [
  {
   "cell_type": "code",
   "execution_count": 3,
   "id": "ea300b9c",
   "metadata": {},
   "outputs": [],
   "source": [
    "import os\n",
    "import pandas as pd"
   ]
  },
  {
   "cell_type": "code",
   "execution_count": 4,
   "id": "340767fb",
   "metadata": {},
   "outputs": [
    {
     "name": "stdout",
     "output_type": "stream",
     "text": [
      "/Users/lb/Dev/30-days-of-python/day17-Data science pipeline with jupyter, pandas & fastapi/notebooks\n"
     ]
    }
   ],
   "source": [
    "cwd = os.getcwd() # dirname(abspath(__file__))\n",
    "print (cwd)\n",
    "BASE_DIR = os.path.dirname(cwd)\n",
    "DATA_DIR = os.path.join(BASE_DIR, 'data')"
   ]
  },
  {
   "cell_type": "code",
   "execution_count": 5,
   "id": "fdf45b14",
   "metadata": {},
   "outputs": [
    {
     "data": {
      "text/plain": [
       "['2020.csv', '2021.csv', '2022.csv']"
      ]
     },
     "execution_count": 5,
     "metadata": {},
     "output_type": "execute_result"
    }
   ],
   "source": [
    "os.listdir(DATA_DIR)"
   ]
  },
  {
   "cell_type": "code",
   "execution_count": 10,
   "id": "5b090c58",
   "metadata": {},
   "outputs": [],
   "source": [
    "my_items = [{\"category\": \"Action\", \"title\": \"My awesome movie\"}, {\"category\": \"Comedy\", \"title\": \"Data Jokes are us\"}]\n",
    "df = pd.DataFrame(my_items)"
   ]
  },
  {
   "cell_type": "code",
   "execution_count": 11,
   "id": "f70d9212",
   "metadata": {},
   "outputs": [
    {
     "data": {
      "text/html": [
       "<div>\n",
       "<style scoped>\n",
       "    .dataframe tbody tr th:only-of-type {\n",
       "        vertical-align: middle;\n",
       "    }\n",
       "\n",
       "    .dataframe tbody tr th {\n",
       "        vertical-align: top;\n",
       "    }\n",
       "\n",
       "    .dataframe thead th {\n",
       "        text-align: right;\n",
       "    }\n",
       "</style>\n",
       "<table border=\"1\" class=\"dataframe\">\n",
       "  <thead>\n",
       "    <tr style=\"text-align: right;\">\n",
       "      <th></th>\n",
       "      <th>category</th>\n",
       "      <th>title</th>\n",
       "    </tr>\n",
       "  </thead>\n",
       "  <tbody>\n",
       "    <tr>\n",
       "      <th>0</th>\n",
       "      <td>Action</td>\n",
       "      <td>My awesome movie</td>\n",
       "    </tr>\n",
       "    <tr>\n",
       "      <th>1</th>\n",
       "      <td>Comedy</td>\n",
       "      <td>Data Jokes are us</td>\n",
       "    </tr>\n",
       "  </tbody>\n",
       "</table>\n",
       "</div>"
      ],
      "text/plain": [
       "  category              title\n",
       "0   Action   My awesome movie\n",
       "1   Comedy  Data Jokes are us"
      ]
     },
     "execution_count": 11,
     "metadata": {},
     "output_type": "execute_result"
    }
   ],
   "source": [
    "df.head()"
   ]
  },
  {
   "cell_type": "code",
   "execution_count": 13,
   "id": "00019a92",
   "metadata": {},
   "outputs": [
    {
     "data": {
      "text/plain": [
       "0    Action\n",
       "1    Comedy\n",
       "Name: category, dtype: object"
      ]
     },
     "execution_count": 13,
     "metadata": {},
     "output_type": "execute_result"
    }
   ],
   "source": [
    "df['category']"
   ]
  },
  {
   "cell_type": "code",
   "execution_count": 14,
   "id": "58d1dab9",
   "metadata": {},
   "outputs": [
    {
     "data": {
      "text/plain": [
       "0     My awesome movie\n",
       "1    Data Jokes are us\n",
       "Name: title, dtype: object"
      ]
     },
     "execution_count": 14,
     "metadata": {},
     "output_type": "execute_result"
    }
   ],
   "source": [
    "df['title']"
   ]
  },
  {
   "cell_type": "code",
   "execution_count": 15,
   "id": "377681a5",
   "metadata": {},
   "outputs": [
    {
     "data": {
      "text/plain": [
       "category              Action\n",
       "title       My awesome movie\n",
       "Name: 0, dtype: object"
      ]
     },
     "execution_count": 15,
     "metadata": {},
     "output_type": "execute_result"
    }
   ],
   "source": [
    "df.iloc[0]"
   ]
  },
  {
   "cell_type": "code",
   "execution_count": 16,
   "id": "d7c0bae0",
   "metadata": {},
   "outputs": [
    {
     "data": {
      "text/plain": [
       "category               Comedy\n",
       "title       Data Jokes are us\n",
       "Name: 1, dtype: object"
      ]
     },
     "execution_count": 16,
     "metadata": {},
     "output_type": "execute_result"
    }
   ],
   "source": [
    "df.iloc[1]"
   ]
  },
  {
   "cell_type": "code",
   "execution_count": 6,
   "id": "3cd868d3",
   "metadata": {},
   "outputs": [
    {
     "name": "stdout",
     "output_type": "stream",
     "text": [
      "True\n"
     ]
    }
   ],
   "source": [
    "my_data = os.path.join(DATA_DIR, '2020.csv')\n",
    "print(os.path.exists(my_data))"
   ]
  },
  {
   "cell_type": "code",
   "execution_count": 25,
   "id": "75e15ec5",
   "metadata": {},
   "outputs": [],
   "source": [
    "df2 = pd.read_csv(my_data) #"
   ]
  },
  {
   "cell_type": "code",
   "execution_count": 26,
   "id": "c4979d94",
   "metadata": {},
   "outputs": [
    {
     "data": {
      "text/html": [
       "<div>\n",
       "<style scoped>\n",
       "    .dataframe tbody tr th:only-of-type {\n",
       "        vertical-align: middle;\n",
       "    }\n",
       "\n",
       "    .dataframe tbody tr th {\n",
       "        vertical-align: top;\n",
       "    }\n",
       "\n",
       "    .dataframe thead th {\n",
       "        text-align: right;\n",
       "    }\n",
       "</style>\n",
       "<table border=\"1\" class=\"dataframe\">\n",
       "  <thead>\n",
       "    <tr style=\"text-align: right;\">\n",
       "      <th></th>\n",
       "      <th>Rank</th>\n",
       "      <th>Release Group</th>\n",
       "      <th>Worldwide</th>\n",
       "      <th>Domestic</th>\n",
       "      <th>%</th>\n",
       "      <th>Foreign</th>\n",
       "      <th>%.1</th>\n",
       "    </tr>\n",
       "  </thead>\n",
       "  <tbody>\n",
       "    <tr>\n",
       "      <th>0</th>\n",
       "      <td>1</td>\n",
       "      <td>The Eight Hundred</td>\n",
       "      <td>$461,421,559</td>\n",
       "      <td>$372,755</td>\n",
       "      <td>&lt;0.1%</td>\n",
       "      <td>$461,048,804</td>\n",
       "      <td>99.9%</td>\n",
       "    </tr>\n",
       "    <tr>\n",
       "      <th>1</th>\n",
       "      <td>2</td>\n",
       "      <td>Demon Slayer: Mugen Train</td>\n",
       "      <td>$454,779,627</td>\n",
       "      <td>$49,505,008</td>\n",
       "      <td>10.9%</td>\n",
       "      <td>$405,274,619</td>\n",
       "      <td>89.1%</td>\n",
       "    </tr>\n",
       "    <tr>\n",
       "      <th>2</th>\n",
       "      <td>3</td>\n",
       "      <td>Bad Boys for Life</td>\n",
       "      <td>$426,505,244</td>\n",
       "      <td>$206,305,244</td>\n",
       "      <td>48.4%</td>\n",
       "      <td>$220,200,000</td>\n",
       "      <td>51.6%</td>\n",
       "    </tr>\n",
       "    <tr>\n",
       "      <th>3</th>\n",
       "      <td>4</td>\n",
       "      <td>My People, My Homeland</td>\n",
       "      <td>$422,390,820</td>\n",
       "      <td>-</td>\n",
       "      <td>-</td>\n",
       "      <td>$422,390,820</td>\n",
       "      <td>100%</td>\n",
       "    </tr>\n",
       "    <tr>\n",
       "      <th>4</th>\n",
       "      <td>5</td>\n",
       "      <td>Tenet</td>\n",
       "      <td>$363,656,624</td>\n",
       "      <td>$58,456,624</td>\n",
       "      <td>16.1%</td>\n",
       "      <td>$305,200,000</td>\n",
       "      <td>83.9%</td>\n",
       "    </tr>\n",
       "    <tr>\n",
       "      <th>5</th>\n",
       "      <td>6</td>\n",
       "      <td>Sonic the Hedgehog</td>\n",
       "      <td>$319,715,683</td>\n",
       "      <td>$148,974,665</td>\n",
       "      <td>46.6%</td>\n",
       "      <td>$170,741,018</td>\n",
       "      <td>53.4%</td>\n",
       "    </tr>\n",
       "    <tr>\n",
       "      <th>6</th>\n",
       "      <td>7</td>\n",
       "      <td>Dolittle</td>\n",
       "      <td>$245,438,444</td>\n",
       "      <td>$77,047,065</td>\n",
       "      <td>31.4%</td>\n",
       "      <td>$168,391,379</td>\n",
       "      <td>68.6%</td>\n",
       "    </tr>\n",
       "    <tr>\n",
       "      <th>7</th>\n",
       "      <td>8</td>\n",
       "      <td>Legend of Deification</td>\n",
       "      <td>$240,663,149</td>\n",
       "      <td>$214,670</td>\n",
       "      <td>&lt;0.1%</td>\n",
       "      <td>$240,448,479</td>\n",
       "      <td>99.9%</td>\n",
       "    </tr>\n",
       "    <tr>\n",
       "      <th>8</th>\n",
       "      <td>9</td>\n",
       "      <td>A Little Red Flower</td>\n",
       "      <td>$216,000,000</td>\n",
       "      <td>-</td>\n",
       "      <td>-</td>\n",
       "      <td>$216,000,000</td>\n",
       "      <td>100%</td>\n",
       "    </tr>\n",
       "    <tr>\n",
       "      <th>9</th>\n",
       "      <td>10</td>\n",
       "      <td>The Croods 2: A New Age</td>\n",
       "      <td>$215,905,815</td>\n",
       "      <td>$58,568,815</td>\n",
       "      <td>27.1%</td>\n",
       "      <td>$157,337,000</td>\n",
       "      <td>72.9%</td>\n",
       "    </tr>\n",
       "  </tbody>\n",
       "</table>\n",
       "</div>"
      ],
      "text/plain": [
       "   Rank              Release Group     Worldwide      Domestic      %  \\\n",
       "0     1          The Eight Hundred  $461,421,559      $372,755  <0.1%   \n",
       "1     2  Demon Slayer: Mugen Train  $454,779,627   $49,505,008  10.9%   \n",
       "2     3          Bad Boys for Life  $426,505,244  $206,305,244  48.4%   \n",
       "3     4     My People, My Homeland  $422,390,820             -      -   \n",
       "4     5                      Tenet  $363,656,624   $58,456,624  16.1%   \n",
       "5     6         Sonic the Hedgehog  $319,715,683  $148,974,665  46.6%   \n",
       "6     7                   Dolittle  $245,438,444   $77,047,065  31.4%   \n",
       "7     8      Legend of Deification  $240,663,149      $214,670  <0.1%   \n",
       "8     9        A Little Red Flower  $216,000,000             -      -   \n",
       "9    10    The Croods 2: A New Age  $215,905,815   $58,568,815  27.1%   \n",
       "\n",
       "        Foreign    %.1  \n",
       "0  $461,048,804  99.9%  \n",
       "1  $405,274,619  89.1%  \n",
       "2  $220,200,000  51.6%  \n",
       "3  $422,390,820   100%  \n",
       "4  $305,200,000  83.9%  \n",
       "5  $170,741,018  53.4%  \n",
       "6  $168,391,379  68.6%  \n",
       "7  $240,448,479  99.9%  \n",
       "8  $216,000,000   100%  \n",
       "9  $157,337,000  72.9%  "
      ]
     },
     "execution_count": 26,
     "metadata": {},
     "output_type": "execute_result"
    }
   ],
   "source": [
    "df2.head(n=10)"
   ]
  },
  {
   "cell_type": "code",
   "execution_count": 27,
   "id": "94f1d71c",
   "metadata": {},
   "outputs": [
    {
     "data": {
      "text/html": [
       "<div>\n",
       "<style scoped>\n",
       "    .dataframe tbody tr th:only-of-type {\n",
       "        vertical-align: middle;\n",
       "    }\n",
       "\n",
       "    .dataframe tbody tr th {\n",
       "        vertical-align: top;\n",
       "    }\n",
       "\n",
       "    .dataframe thead th {\n",
       "        text-align: right;\n",
       "    }\n",
       "</style>\n",
       "<table border=\"1\" class=\"dataframe\">\n",
       "  <thead>\n",
       "    <tr style=\"text-align: right;\">\n",
       "      <th></th>\n",
       "      <th>Rank</th>\n",
       "      <th>Release Group</th>\n",
       "      <th>Worldwide</th>\n",
       "      <th>Domestic</th>\n",
       "      <th>%</th>\n",
       "      <th>Foreign</th>\n",
       "      <th>%.1</th>\n",
       "    </tr>\n",
       "  </thead>\n",
       "  <tbody>\n",
       "    <tr>\n",
       "      <th>190</th>\n",
       "      <td>191</td>\n",
       "      <td>Made in Abyss: Dawn of the Deep Soul</td>\n",
       "      <td>$4,971,635</td>\n",
       "      <td>-</td>\n",
       "      <td>-</td>\n",
       "      <td>$4,971,635</td>\n",
       "      <td>100%</td>\n",
       "    </tr>\n",
       "    <tr>\n",
       "      <th>191</th>\n",
       "      <td>192</td>\n",
       "      <td>Godai - The Wunderkind</td>\n",
       "      <td>$4,948,225</td>\n",
       "      <td>-</td>\n",
       "      <td>-</td>\n",
       "      <td>$4,948,225</td>\n",
       "      <td>100%</td>\n",
       "    </tr>\n",
       "    <tr>\n",
       "      <th>192</th>\n",
       "      <td>193</td>\n",
       "      <td>Military Wives</td>\n",
       "      <td>$4,889,252</td>\n",
       "      <td>-</td>\n",
       "      <td>-</td>\n",
       "      <td>$4,889,252</td>\n",
       "      <td>100%</td>\n",
       "    </tr>\n",
       "    <tr>\n",
       "      <th>193</th>\n",
       "      <td>194</td>\n",
       "      <td>Panga</td>\n",
       "      <td>$4,886,124</td>\n",
       "      <td>$582,720</td>\n",
       "      <td>11.9%</td>\n",
       "      <td>$4,303,404</td>\n",
       "      <td>88.1%</td>\n",
       "    </tr>\n",
       "    <tr>\n",
       "      <th>194</th>\n",
       "      <td>195</td>\n",
       "      <td>The Tales for Old and Young</td>\n",
       "      <td>$4,853,143</td>\n",
       "      <td>-</td>\n",
       "      <td>-</td>\n",
       "      <td>$4,853,143</td>\n",
       "      <td>100%</td>\n",
       "    </tr>\n",
       "    <tr>\n",
       "      <th>195</th>\n",
       "      <td>196</td>\n",
       "      <td>Streltsov</td>\n",
       "      <td>$4,850,073</td>\n",
       "      <td>-</td>\n",
       "      <td>-</td>\n",
       "      <td>$4,850,073</td>\n",
       "      <td>100%</td>\n",
       "    </tr>\n",
       "    <tr>\n",
       "      <th>196</th>\n",
       "      <td>197</td>\n",
       "      <td>The SpongeBob Movie: Sponge on the Run</td>\n",
       "      <td>$4,810,790</td>\n",
       "      <td>$4,810,790</td>\n",
       "      <td>100%</td>\n",
       "      <td>-</td>\n",
       "      <td>-</td>\n",
       "    </tr>\n",
       "    <tr>\n",
       "      <th>197</th>\n",
       "      <td>198</td>\n",
       "      <td>The Empty Man</td>\n",
       "      <td>$4,796,993</td>\n",
       "      <td>$2,992,948</td>\n",
       "      <td>62.4%</td>\n",
       "      <td>$1,804,045</td>\n",
       "      <td>37.6%</td>\n",
       "    </tr>\n",
       "    <tr>\n",
       "      <th>198</th>\n",
       "      <td>199</td>\n",
       "      <td>The Vets</td>\n",
       "      <td>$4,788,826</td>\n",
       "      <td>-</td>\n",
       "      <td>-</td>\n",
       "      <td>$4,788,826</td>\n",
       "      <td>100%</td>\n",
       "    </tr>\n",
       "    <tr>\n",
       "      <th>199</th>\n",
       "      <td>200</td>\n",
       "      <td>The Broken Hearts Gallery</td>\n",
       "      <td>$4,781,389</td>\n",
       "      <td>$4,067,442</td>\n",
       "      <td>85.1%</td>\n",
       "      <td>$713,947</td>\n",
       "      <td>14.9%</td>\n",
       "    </tr>\n",
       "  </tbody>\n",
       "</table>\n",
       "</div>"
      ],
      "text/plain": [
       "     Rank                           Release Group   Worldwide    Domestic  \\\n",
       "190   191    Made in Abyss: Dawn of the Deep Soul  $4,971,635           -   \n",
       "191   192                  Godai - The Wunderkind  $4,948,225           -   \n",
       "192   193                          Military Wives  $4,889,252           -   \n",
       "193   194                                   Panga  $4,886,124    $582,720   \n",
       "194   195             The Tales for Old and Young  $4,853,143           -   \n",
       "195   196                               Streltsov  $4,850,073           -   \n",
       "196   197  The SpongeBob Movie: Sponge on the Run  $4,810,790  $4,810,790   \n",
       "197   198                           The Empty Man  $4,796,993  $2,992,948   \n",
       "198   199                                The Vets  $4,788,826           -   \n",
       "199   200               The Broken Hearts Gallery  $4,781,389  $4,067,442   \n",
       "\n",
       "         %     Foreign    %.1  \n",
       "190      -  $4,971,635   100%  \n",
       "191      -  $4,948,225   100%  \n",
       "192      -  $4,889,252   100%  \n",
       "193  11.9%  $4,303,404  88.1%  \n",
       "194      -  $4,853,143   100%  \n",
       "195      -  $4,850,073   100%  \n",
       "196   100%           -      -  \n",
       "197  62.4%  $1,804,045  37.6%  \n",
       "198      -  $4,788,826   100%  \n",
       "199  85.1%    $713,947  14.9%  "
      ]
     },
     "execution_count": 27,
     "metadata": {},
     "output_type": "execute_result"
    }
   ],
   "source": [
    "df2.tail(n=10)"
   ]
  },
  {
   "cell_type": "code",
   "execution_count": null,
   "id": "f11ceb2e",
   "metadata": {},
   "outputs": [],
   "source": []
  }
 ],
 "metadata": {
  "kernelspec": {
   "display_name": "Python 3 (ipykernel)",
   "language": "python",
   "name": "python3"
  },
  "language_info": {
   "codemirror_mode": {
    "name": "ipython",
    "version": 3
   },
   "file_extension": ".py",
   "mimetype": "text/x-python",
   "name": "python",
   "nbconvert_exporter": "python",
   "pygments_lexer": "ipython3",
   "version": "3.10.1"
  }
 },
 "nbformat": 4,
 "nbformat_minor": 5
}
